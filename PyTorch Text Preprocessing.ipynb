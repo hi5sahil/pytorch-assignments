{
 "cells": [
  {
   "cell_type": "code",
   "execution_count": 1,
   "id": "511aa555",
   "metadata": {},
   "outputs": [],
   "source": [
    "#!pip install torchtext==0.8.1"
   ]
  },
  {
   "cell_type": "code",
   "execution_count": 2,
   "id": "95e2944b",
   "metadata": {},
   "outputs": [],
   "source": [
    "import numpy as np\n",
    "import pandas as pd\n",
    "import matplotlib.pyplot as plt\n",
    "from datetime import datetime\n",
    "import torch\n",
    "import torch.nn as nn\n",
    "import torchtext.data as ttd"
   ]
  },
  {
   "cell_type": "code",
   "execution_count": 3,
   "id": "6c9cf1d5",
   "metadata": {},
   "outputs": [],
   "source": [
    "# Let's make some fake data!\n",
    "data = {\n",
    "    \"label\": [0, 1, 1],\n",
    "    \"data\": [\n",
    "        \"I like eggs and ham.\",\n",
    "        \"Eggs I like!\",\n",
    "        \"Ham and eggs or just ham?\",\n",
    "    ]\n",
    "}"
   ]
  },
  {
   "cell_type": "code",
   "execution_count": 4,
   "id": "f31c375b",
   "metadata": {},
   "outputs": [],
   "source": [
    "df = pd.DataFrame(data)"
   ]
  },
  {
   "cell_type": "code",
   "execution_count": 5,
   "id": "ac4e17ed",
   "metadata": {},
   "outputs": [
    {
     "data": {
      "text/html": [
       "<div>\n",
       "<style scoped>\n",
       "    .dataframe tbody tr th:only-of-type {\n",
       "        vertical-align: middle;\n",
       "    }\n",
       "\n",
       "    .dataframe tbody tr th {\n",
       "        vertical-align: top;\n",
       "    }\n",
       "\n",
       "    .dataframe thead th {\n",
       "        text-align: right;\n",
       "    }\n",
       "</style>\n",
       "<table border=\"1\" class=\"dataframe\">\n",
       "  <thead>\n",
       "    <tr style=\"text-align: right;\">\n",
       "      <th></th>\n",
       "      <th>label</th>\n",
       "      <th>data</th>\n",
       "    </tr>\n",
       "  </thead>\n",
       "  <tbody>\n",
       "    <tr>\n",
       "      <th>0</th>\n",
       "      <td>0</td>\n",
       "      <td>I like eggs and ham.</td>\n",
       "    </tr>\n",
       "    <tr>\n",
       "      <th>1</th>\n",
       "      <td>1</td>\n",
       "      <td>Eggs I like!</td>\n",
       "    </tr>\n",
       "    <tr>\n",
       "      <th>2</th>\n",
       "      <td>1</td>\n",
       "      <td>Ham and eggs or just ham?</td>\n",
       "    </tr>\n",
       "  </tbody>\n",
       "</table>\n",
       "</div>"
      ],
      "text/plain": [
       "   label                       data\n",
       "0      0       I like eggs and ham.\n",
       "1      1               Eggs I like!\n",
       "2      1  Ham and eggs or just ham?"
      ]
     },
     "execution_count": 5,
     "metadata": {},
     "output_type": "execute_result"
    }
   ],
   "source": [
    "df.head()"
   ]
  },
  {
   "cell_type": "code",
   "execution_count": 6,
   "id": "ac0f3b1c",
   "metadata": {},
   "outputs": [],
   "source": [
    "df.to_csv('thedata.csv', index=False)"
   ]
  },
  {
   "cell_type": "code",
   "execution_count": 7,
   "id": "7d6935df",
   "metadata": {},
   "outputs": [
    {
     "name": "stdout",
     "output_type": "stream",
     "text": [
      "label,data\r\n",
      "0,I like eggs and ham.\r\n",
      "1,Eggs I like!\r\n",
      "1,Ham and eggs or just ham?\r\n"
     ]
    }
   ],
   "source": [
    "!head thedata.csv"
   ]
  },
  {
   "cell_type": "markdown",
   "id": "bfa59b87",
   "metadata": {},
   "source": [
    "## Create field objects"
   ]
  },
  {
   "cell_type": "code",
   "execution_count": 8,
   "id": "6bf4f4fc",
   "metadata": {},
   "outputs": [
    {
     "name": "stderr",
     "output_type": "stream",
     "text": [
      "/Users/Z0094BV/miniconda3/lib/python3.9/site-packages/torchtext/data/field.py:150: UserWarning: Field class will be retired soon and moved to torchtext.legacy. Please see the most recent release notes for further information.\n",
      "  warnings.warn('{} class will be retired soon and moved to torchtext.legacy. Please see the most recent release notes for further information.'.format(self.__class__.__name__), UserWarning)\n",
      "/Users/Z0094BV/miniconda3/lib/python3.9/site-packages/torchtext/data/example.py:68: UserWarning: Example class will be retired soon and moved to torchtext.legacy. Please see the most recent release notes for further information.\n",
      "  warnings.warn('Example class will be retired soon and moved to torchtext.legacy. Please see the most recent release notes for further information.', UserWarning)\n",
      "/Users/Z0094BV/miniconda3/lib/python3.9/site-packages/torchtext/data/example.py:78: UserWarning: Example class will be retired soon and moved to torchtext.legacy. Please see the most recent release notes for further information.\n",
      "  warnings.warn('Example class will be retired soon and moved to torchtext.legacy. Please see the most recent release notes for further information.', UserWarning)\n"
     ]
    }
   ],
   "source": [
    "TEXT = ttd.Field(\n",
    "    sequential=True, # each sample is sequence of words\n",
    "    batch_first=True, # N x T\n",
    "    lower=True, # lower case the words\n",
    "    #tokenize='spacy', \n",
    "    \n",
    "    # if 'spacy' commented it uses string.split()\n",
    "    \n",
    "    pad_first=True) # pre-padding\n",
    "\n",
    "\n",
    "LABEL = ttd.Field(sequential=False, use_vocab=False, is_target=True)\n",
    "\n",
    "# Note: if you don't specify use_vocab=False, then PyTorch will\n",
    "# complain later when you try to iterate over the dataset that\n",
    "# the attribute `vocab` doesn't exist.\n",
    "\n",
    "# Note 2: if you don't specify is_target=True, then PyTorch will\n",
    "# assume it's part of the input, so when you iterate over the\n",
    "# dataset it will be like:\n",
    "# for (inputs, targets), _ in iterator:\n",
    "# where the 2nd element (_) should have been the target.\n",
    "\n",
    "dataset = ttd.TabularDataset(\n",
    "    path='thedata.csv',\n",
    "    format='csv',\n",
    "    skip_header=True,\n",
    "    \n",
    "    # specify fields in the order they appear in .csv file\n",
    "    fields=[('label', LABEL), ('data', TEXT)]\n",
    ")"
   ]
  },
  {
   "cell_type": "code",
   "execution_count": 9,
   "id": "85c32cb5",
   "metadata": {},
   "outputs": [],
   "source": [
    "ex = dataset.examples[0]"
   ]
  },
  {
   "cell_type": "code",
   "execution_count": 10,
   "id": "84996af2",
   "metadata": {},
   "outputs": [
    {
     "data": {
      "text/plain": [
       "torchtext.data.example.Example"
      ]
     },
     "execution_count": 10,
     "metadata": {},
     "output_type": "execute_result"
    }
   ],
   "source": [
    "type(ex)"
   ]
  },
  {
   "cell_type": "code",
   "execution_count": 11,
   "id": "bdd85ae7",
   "metadata": {},
   "outputs": [
    {
     "data": {
      "text/plain": [
       "['i', 'like', 'eggs', 'and', 'ham.']"
      ]
     },
     "execution_count": 11,
     "metadata": {},
     "output_type": "execute_result"
    }
   ],
   "source": [
    "ex.data"
   ]
  },
  {
   "cell_type": "code",
   "execution_count": 12,
   "id": "b3bb9654",
   "metadata": {},
   "outputs": [
    {
     "data": {
      "text/plain": [
       "'0'"
      ]
     },
     "execution_count": 12,
     "metadata": {},
     "output_type": "execute_result"
    }
   ],
   "source": [
    "ex.label"
   ]
  },
  {
   "cell_type": "code",
   "execution_count": 13,
   "id": "1ade6d81",
   "metadata": {},
   "outputs": [],
   "source": [
    "train_dataset, test_dataset = dataset.split(0.66) # default is 0.7"
   ]
  },
  {
   "cell_type": "code",
   "execution_count": 14,
   "id": "ead3b161",
   "metadata": {},
   "outputs": [
    {
     "name": "stdout",
     "output_type": "stream",
     "text": [
      "['ham', 'and', 'eggs', 'or', 'just', 'ham?']\n",
      "['i', 'like', 'eggs', 'and', 'ham.']\n"
     ]
    }
   ],
   "source": [
    "for ex in train_dataset.examples:\n",
    "  print(ex.data)"
   ]
  },
  {
   "cell_type": "code",
   "execution_count": 15,
   "id": "47634323",
   "metadata": {},
   "outputs": [],
   "source": [
    "TEXT.build_vocab(train_dataset,)"
   ]
  },
  {
   "cell_type": "code",
   "execution_count": 16,
   "id": "8e5ebdb1",
   "metadata": {},
   "outputs": [
    {
     "data": {
      "text/plain": [
       "torchtext.vocab.Vocab"
      ]
     },
     "execution_count": 16,
     "metadata": {},
     "output_type": "execute_result"
    }
   ],
   "source": [
    "vocab = TEXT.vocab\n",
    "type(vocab)"
   ]
  },
  {
   "cell_type": "code",
   "execution_count": 17,
   "id": "3622c281",
   "metadata": {},
   "outputs": [
    {
     "data": {
      "text/plain": [
       "defaultdict(<bound method Vocab._default_unk_index of <torchtext.vocab.Vocab object at 0x7fc8f0cf48e0>>,\n",
       "            {'<unk>': 0,\n",
       "             '<pad>': 1,\n",
       "             'and': 2,\n",
       "             'eggs': 3,\n",
       "             'ham': 4,\n",
       "             'ham.': 5,\n",
       "             'ham?': 6,\n",
       "             'i': 7,\n",
       "             'just': 8,\n",
       "             'like': 9,\n",
       "             'or': 10})"
      ]
     },
     "execution_count": 17,
     "metadata": {},
     "output_type": "execute_result"
    }
   ],
   "source": [
    "vocab.stoi\n",
    "\n",
    "# if you use spacey, punctuation will be considered a token '?', '.'"
   ]
  },
  {
   "cell_type": "code",
   "execution_count": 25,
   "id": "e6311218",
   "metadata": {},
   "outputs": [
    {
     "data": {
      "text/plain": [
       "4"
      ]
     },
     "execution_count": 25,
     "metadata": {},
     "output_type": "execute_result"
    }
   ],
   "source": [
    "vocab.stoi['ham']"
   ]
  },
  {
   "cell_type": "code",
   "execution_count": 19,
   "id": "c2cb74fe",
   "metadata": {},
   "outputs": [
    {
     "data": {
      "text/plain": [
       "['<unk>',\n",
       " '<pad>',\n",
       " 'and',\n",
       " 'eggs',\n",
       " 'ham',\n",
       " 'ham.',\n",
       " 'ham?',\n",
       " 'i',\n",
       " 'just',\n",
       " 'like',\n",
       " 'or']"
      ]
     },
     "execution_count": 19,
     "metadata": {},
     "output_type": "execute_result"
    }
   ],
   "source": [
    "vocab.itos"
   ]
  },
  {
   "cell_type": "code",
   "execution_count": 26,
   "id": "f379dde5",
   "metadata": {},
   "outputs": [
    {
     "data": {
      "text/plain": [
       "'ham'"
      ]
     },
     "execution_count": 26,
     "metadata": {},
     "output_type": "execute_result"
    }
   ],
   "source": [
    "vocab.itos[4]"
   ]
  },
  {
   "cell_type": "code",
   "execution_count": 20,
   "id": "971972ed",
   "metadata": {},
   "outputs": [
    {
     "name": "stdout",
     "output_type": "stream",
     "text": [
      "cpu\n"
     ]
    }
   ],
   "source": [
    "device = torch.device(\"cuda:0\" if torch.cuda.is_available() else \"cpu\")\n",
    "print(device)"
   ]
  },
  {
   "cell_type": "code",
   "execution_count": 21,
   "id": "1bf846a0",
   "metadata": {},
   "outputs": [
    {
     "name": "stderr",
     "output_type": "stream",
     "text": [
      "/Users/Z0094BV/miniconda3/lib/python3.9/site-packages/torchtext/data/iterator.py:48: UserWarning: Iterator class will be retired soon and moved to torchtext.legacy. Please see the most recent release notes for further information.\n",
      "  warnings.warn('{} class will be retired soon and moved to torchtext.legacy. Please see the most recent release notes for further information.'.format(self.__class__.__name__), UserWarning)\n"
     ]
    }
   ],
   "source": [
    "train_iter, test_iter = ttd.Iterator.splits(\n",
    "        (train_dataset, test_dataset), \n",
    "        sort_key=lambda x: len(x.data), # each sentence of roughly equal size to organize batches of equal size sentences\n",
    "        batch_sizes=(2, 2), # tuple (batch size of train, batch size of test)\n",
    "        device=device) # refers to placing dataset automatically on GPU"
   ]
  },
  {
   "cell_type": "code",
   "execution_count": 22,
   "id": "12bb8b8e",
   "metadata": {},
   "outputs": [
    {
     "name": "stdout",
     "output_type": "stream",
     "text": [
      "inputs: tensor([[ 4,  2,  3, 10,  8,  6],\n",
      "        [ 1,  7,  9,  3,  2,  5]]) shape: torch.Size([2, 6])\n",
      "targets: tensor([1, 0]) shape: torch.Size([2])\n"
     ]
    },
    {
     "name": "stderr",
     "output_type": "stream",
     "text": [
      "/Users/Z0094BV/miniconda3/lib/python3.9/site-packages/torchtext/data/batch.py:23: UserWarning: Batch class will be retired soon and moved to torchtext.legacy. Please see the most recent release notes for further information.\n",
      "  warnings.warn('{} class will be retired soon and moved to torchtext.legacy. Please see the most recent release notes for further information.'.format(self.__class__.__name__), UserWarning)\n"
     ]
    }
   ],
   "source": [
    "for inputs, targets in train_iter:\n",
    "  print(\"inputs:\", inputs, \"shape:\", inputs.shape)\n",
    "  print(\"targets:\", targets, \"shape:\", targets.shape)\n",
    "  break"
   ]
  },
  {
   "cell_type": "code",
   "execution_count": 23,
   "id": "6dded46e",
   "metadata": {},
   "outputs": [
    {
     "name": "stdout",
     "output_type": "stream",
     "text": [
      "inputs: tensor([[3, 7, 0]]) shape: torch.Size([1, 3])\n",
      "targets: tensor([1]) shape: torch.Size([1])\n"
     ]
    }
   ],
   "source": [
    "for inputs, targets in test_iter:\n",
    "  print(\"inputs:\", inputs, \"shape:\", inputs.shape)\n",
    "  print(\"targets:\", targets, \"shape:\", targets.shape)\n",
    "  break"
   ]
  },
  {
   "cell_type": "code",
   "execution_count": 24,
   "id": "07a26380",
   "metadata": {},
   "outputs": [],
   "source": [
    "# Exericise: Figure out which sequence of integers goes with which sentence."
   ]
  },
  {
   "cell_type": "code",
   "execution_count": null,
   "id": "375519a3",
   "metadata": {},
   "outputs": [],
   "source": []
  }
 ],
 "metadata": {
  "kernelspec": {
   "display_name": "Python 3 (ipykernel)",
   "language": "python",
   "name": "python3"
  },
  "language_info": {
   "codemirror_mode": {
    "name": "ipython",
    "version": 3
   },
   "file_extension": ".py",
   "mimetype": "text/x-python",
   "name": "python",
   "nbconvert_exporter": "python",
   "pygments_lexer": "ipython3",
   "version": "3.9.16"
  }
 },
 "nbformat": 4,
 "nbformat_minor": 5
}
