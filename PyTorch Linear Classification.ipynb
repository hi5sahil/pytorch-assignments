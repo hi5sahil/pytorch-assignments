{
 "cells": [
  {
   "cell_type": "code",
   "execution_count": 1,
   "id": "92a6233d",
   "metadata": {},
   "outputs": [],
   "source": [
    "import torch\n",
    "import torch.nn as nn\n",
    "import numpy as np\n",
    "import matplotlib.pyplot as plt"
   ]
  },
  {
   "cell_type": "code",
   "execution_count": 2,
   "id": "dfaedd0f",
   "metadata": {},
   "outputs": [],
   "source": [
    "# Load in the data\n",
    "from sklearn.datasets import load_breast_cancer"
   ]
  },
  {
   "cell_type": "code",
   "execution_count": 3,
   "id": "3d0fdece",
   "metadata": {},
   "outputs": [],
   "source": [
    "# load the data\n",
    "data = load_breast_cancer()"
   ]
  },
  {
   "cell_type": "code",
   "execution_count": 4,
   "id": "d076bc05",
   "metadata": {},
   "outputs": [
    {
     "data": {
      "text/plain": [
       "sklearn.utils._bunch.Bunch"
      ]
     },
     "execution_count": 4,
     "metadata": {},
     "output_type": "execute_result"
    }
   ],
   "source": [
    "# check the type of 'data'\n",
    "type(data)"
   ]
  },
  {
   "cell_type": "code",
   "execution_count": 5,
   "id": "ee6692a3",
   "metadata": {},
   "outputs": [
    {
     "data": {
      "text/plain": [
       "dict_keys(['data', 'target', 'frame', 'target_names', 'DESCR', 'feature_names', 'filename', 'data_module'])"
      ]
     },
     "execution_count": 5,
     "metadata": {},
     "output_type": "execute_result"
    }
   ],
   "source": [
    "# note: it is a Bunch object\n",
    "# this basically acts like a dictionary where you can treat the keys like attributes\n",
    "data.keys()"
   ]
  },
  {
   "cell_type": "code",
   "execution_count": 6,
   "id": "7254a20f",
   "metadata": {},
   "outputs": [
    {
     "data": {
      "text/plain": [
       "(569, 30)"
      ]
     },
     "execution_count": 6,
     "metadata": {},
     "output_type": "execute_result"
    }
   ],
   "source": [
    "# 'data' (the attribute) means the input data\n",
    "data.data.shape\n",
    "# it has 569 samples, 30 features"
   ]
  },
  {
   "cell_type": "code",
   "execution_count": 7,
   "id": "effa2d5a",
   "metadata": {},
   "outputs": [
    {
     "data": {
      "text/plain": [
       "array([0, 0, 0, 0, 0, 0, 0, 0, 0, 0, 0, 0, 0, 0, 0, 0, 0, 0, 0, 1, 1, 1,\n",
       "       0, 0, 0, 0, 0, 0, 0, 0, 0, 0, 0, 0, 0, 0, 0, 1, 0, 0, 0, 0, 0, 0,\n",
       "       0, 0, 1, 0, 1, 1, 1, 1, 1, 0, 0, 1, 0, 0, 1, 1, 1, 1, 0, 1, 0, 0,\n",
       "       1, 1, 1, 1, 0, 1, 0, 0, 1, 0, 1, 0, 0, 1, 1, 1, 0, 0, 1, 0, 0, 0,\n",
       "       1, 1, 1, 0, 1, 1, 0, 0, 1, 1, 1, 0, 0, 1, 1, 1, 1, 0, 1, 1, 0, 1,\n",
       "       1, 1, 1, 1, 1, 1, 1, 0, 0, 0, 1, 0, 0, 1, 1, 1, 0, 0, 1, 0, 1, 0,\n",
       "       0, 1, 0, 0, 1, 1, 0, 1, 1, 0, 1, 1, 1, 1, 0, 1, 1, 1, 1, 1, 1, 1,\n",
       "       1, 1, 0, 1, 1, 1, 1, 0, 0, 1, 0, 1, 1, 0, 0, 1, 1, 0, 0, 1, 1, 1,\n",
       "       1, 0, 1, 1, 0, 0, 0, 1, 0, 1, 0, 1, 1, 1, 0, 1, 1, 0, 0, 1, 0, 0,\n",
       "       0, 0, 1, 0, 0, 0, 1, 0, 1, 0, 1, 1, 0, 1, 0, 0, 0, 0, 1, 1, 0, 0,\n",
       "       1, 1, 1, 0, 1, 1, 1, 1, 1, 0, 0, 1, 1, 0, 1, 1, 0, 0, 1, 0, 1, 1,\n",
       "       1, 1, 0, 1, 1, 1, 1, 1, 0, 1, 0, 0, 0, 0, 0, 0, 0, 0, 0, 0, 0, 0,\n",
       "       0, 0, 1, 1, 1, 1, 1, 1, 0, 1, 0, 1, 1, 0, 1, 1, 0, 1, 0, 0, 1, 1,\n",
       "       1, 1, 1, 1, 1, 1, 1, 1, 1, 1, 1, 0, 1, 1, 0, 1, 0, 1, 1, 1, 1, 1,\n",
       "       1, 1, 1, 1, 1, 1, 1, 1, 1, 0, 1, 1, 1, 0, 1, 0, 1, 1, 1, 1, 0, 0,\n",
       "       0, 1, 1, 1, 1, 0, 1, 0, 1, 0, 1, 1, 1, 0, 1, 1, 1, 1, 1, 1, 1, 0,\n",
       "       0, 0, 1, 1, 1, 1, 1, 1, 1, 1, 1, 1, 1, 0, 0, 1, 0, 0, 0, 1, 0, 0,\n",
       "       1, 1, 1, 1, 1, 0, 1, 1, 1, 1, 1, 0, 1, 1, 1, 0, 1, 1, 0, 0, 1, 1,\n",
       "       1, 1, 1, 1, 0, 1, 1, 1, 1, 1, 1, 1, 0, 1, 1, 1, 1, 1, 0, 1, 1, 0,\n",
       "       1, 1, 1, 1, 1, 1, 1, 1, 1, 1, 1, 1, 0, 1, 0, 0, 1, 0, 1, 1, 1, 1,\n",
       "       1, 0, 1, 1, 0, 1, 0, 1, 1, 0, 1, 0, 1, 1, 1, 1, 1, 1, 1, 1, 0, 0,\n",
       "       1, 1, 1, 1, 1, 1, 0, 1, 1, 1, 1, 1, 1, 1, 1, 1, 1, 0, 1, 1, 1, 1,\n",
       "       1, 1, 1, 0, 1, 0, 1, 1, 0, 1, 1, 1, 1, 1, 0, 0, 1, 0, 1, 0, 1, 1,\n",
       "       1, 1, 1, 0, 1, 1, 0, 1, 0, 1, 0, 0, 1, 1, 1, 0, 1, 1, 1, 1, 1, 1,\n",
       "       1, 1, 1, 1, 1, 0, 1, 0, 0, 1, 1, 1, 1, 1, 1, 1, 1, 1, 1, 1, 1, 1,\n",
       "       1, 1, 1, 1, 1, 1, 1, 1, 1, 1, 1, 1, 0, 0, 0, 0, 0, 0, 1])"
      ]
     },
     "execution_count": 7,
     "metadata": {},
     "output_type": "execute_result"
    }
   ],
   "source": [
    "# 'targets'\n",
    "data.target\n",
    "# note how the targets are just 0s and 1s\n",
    "# normally, when you have K targets, they are labeled 0..K-1"
   ]
  },
  {
   "cell_type": "code",
   "execution_count": 8,
   "id": "7867de02",
   "metadata": {},
   "outputs": [
    {
     "data": {
      "text/plain": [
       "array(['malignant', 'benign'], dtype='<U9')"
      ]
     },
     "execution_count": 8,
     "metadata": {},
     "output_type": "execute_result"
    }
   ],
   "source": [
    "# their meaning is not lost\n",
    "data.target_names"
   ]
  },
  {
   "cell_type": "code",
   "execution_count": 9,
   "id": "19d21a3e",
   "metadata": {},
   "outputs": [
    {
     "data": {
      "text/plain": [
       "(569,)"
      ]
     },
     "execution_count": 9,
     "metadata": {},
     "output_type": "execute_result"
    }
   ],
   "source": [
    "# there are also 569 corresponding targets\n",
    "data.target.shape"
   ]
  },
  {
   "cell_type": "code",
   "execution_count": 10,
   "id": "451e71ef",
   "metadata": {},
   "outputs": [
    {
     "data": {
      "text/plain": [
       "array(['mean radius', 'mean texture', 'mean perimeter', 'mean area',\n",
       "       'mean smoothness', 'mean compactness', 'mean concavity',\n",
       "       'mean concave points', 'mean symmetry', 'mean fractal dimension',\n",
       "       'radius error', 'texture error', 'perimeter error', 'area error',\n",
       "       'smoothness error', 'compactness error', 'concavity error',\n",
       "       'concave points error', 'symmetry error',\n",
       "       'fractal dimension error', 'worst radius', 'worst texture',\n",
       "       'worst perimeter', 'worst area', 'worst smoothness',\n",
       "       'worst compactness', 'worst concavity', 'worst concave points',\n",
       "       'worst symmetry', 'worst fractal dimension'], dtype='<U23')"
      ]
     },
     "execution_count": 10,
     "metadata": {},
     "output_type": "execute_result"
    }
   ],
   "source": [
    "# you can also determine the meaning of each feature\n",
    "data.feature_names"
   ]
  },
  {
   "cell_type": "code",
   "execution_count": 11,
   "id": "c0142c27",
   "metadata": {},
   "outputs": [],
   "source": [
    "# normally we would put all of our imports at the top\n",
    "# but this lets us tell a story\n",
    "from sklearn.model_selection import train_test_split\n",
    "\n",
    "\n",
    "# split the data into train and test sets\n",
    "# this lets us simulate how our model will perform in the future\n",
    "X_train, X_test, y_train, y_test = train_test_split(data.data, data.target, test_size=0.33)\n",
    "N, D = X_train.shape"
   ]
  },
  {
   "cell_type": "code",
   "execution_count": 12,
   "id": "c0d20024",
   "metadata": {},
   "outputs": [],
   "source": [
    "# Scale the data\n",
    "# you'll learn why scaling is needed in a later course\n",
    "from sklearn.preprocessing import StandardScaler\n",
    "\n",
    "scaler = StandardScaler()\n",
    "X_train = scaler.fit_transform(X_train)\n",
    "X_test = scaler.transform(X_test)"
   ]
  },
  {
   "cell_type": "code",
   "execution_count": 13,
   "id": "5db93705",
   "metadata": {},
   "outputs": [],
   "source": [
    "# Now all the fun PyTorch stuff\n",
    "# Build the model\n",
    "model = nn.Sequential(\n",
    "    nn.Linear(D, 1),\n",
    "    nn.Sigmoid()\n",
    ")"
   ]
  },
  {
   "cell_type": "code",
   "execution_count": 14,
   "id": "582ca21f",
   "metadata": {},
   "outputs": [],
   "source": [
    "# Loss and optimizer\n",
    "criterion = nn.BCELoss()\n",
    "optimizer = torch.optim.Adam(model.parameters())"
   ]
  },
  {
   "cell_type": "code",
   "execution_count": 15,
   "id": "ca5b731f",
   "metadata": {},
   "outputs": [],
   "source": [
    "# Convert data into torch tensors\n",
    "X_train = torch.from_numpy(X_train.astype(np.float32))\n",
    "X_test = torch.from_numpy(X_test.astype(np.float32))\n",
    "y_train = torch.from_numpy(y_train.astype(np.float32).reshape(-1, 1))\n",
    "y_test = torch.from_numpy(y_test.astype(np.float32).reshape(-1, 1))"
   ]
  },
  {
   "cell_type": "code",
   "execution_count": 16,
   "id": "460bd3e6",
   "metadata": {},
   "outputs": [
    {
     "name": "stdout",
     "output_type": "stream",
     "text": [
      "Epoch 50/1000, Train Loss: 0.3867, Test Loss: 0.3660\n",
      "Epoch 100/1000, Train Loss: 0.2966, Test Loss: 0.2804\n",
      "Epoch 150/1000, Train Loss: 0.2448, Test Loss: 0.2301\n",
      "Epoch 200/1000, Train Loss: 0.2115, Test Loss: 0.1963\n",
      "Epoch 250/1000, Train Loss: 0.1885, Test Loss: 0.1719\n",
      "Epoch 300/1000, Train Loss: 0.1716, Test Loss: 0.1536\n",
      "Epoch 350/1000, Train Loss: 0.1586, Test Loss: 0.1393\n",
      "Epoch 400/1000, Train Loss: 0.1483, Test Loss: 0.1279\n",
      "Epoch 450/1000, Train Loss: 0.1399, Test Loss: 0.1185\n",
      "Epoch 500/1000, Train Loss: 0.1329, Test Loss: 0.1108\n",
      "Epoch 550/1000, Train Loss: 0.1269, Test Loss: 0.1042\n",
      "Epoch 600/1000, Train Loss: 0.1218, Test Loss: 0.0985\n",
      "Epoch 650/1000, Train Loss: 0.1174, Test Loss: 0.0936\n",
      "Epoch 700/1000, Train Loss: 0.1135, Test Loss: 0.0894\n",
      "Epoch 750/1000, Train Loss: 0.1100, Test Loss: 0.0856\n",
      "Epoch 800/1000, Train Loss: 0.1069, Test Loss: 0.0822\n",
      "Epoch 850/1000, Train Loss: 0.1041, Test Loss: 0.0792\n",
      "Epoch 900/1000, Train Loss: 0.1015, Test Loss: 0.0765\n",
      "Epoch 950/1000, Train Loss: 0.0992, Test Loss: 0.0741\n",
      "Epoch 1000/1000, Train Loss: 0.0971, Test Loss: 0.0718\n"
     ]
    }
   ],
   "source": [
    "# Train the model\n",
    "n_epochs = 1000\n",
    "\n",
    "# Stuff to store\n",
    "train_losses = np.zeros(n_epochs)\n",
    "test_losses = np.zeros(n_epochs)\n",
    "\n",
    "for it in range(n_epochs):\n",
    "  # zero the parameter gradients\n",
    "  optimizer.zero_grad()\n",
    "\n",
    "  # Forward pass\n",
    "  outputs = model(X_train)\n",
    "  loss = criterion(outputs, y_train)\n",
    "    \n",
    "  # Backward and optimize\n",
    "  loss.backward()\n",
    "  optimizer.step()\n",
    "\n",
    "  # Get test loss\n",
    "  outputs_test = model(X_test)\n",
    "  loss_test = criterion(outputs_test, y_test)\n",
    "\n",
    "  # Save losses\n",
    "  train_losses[it] = loss.item()\n",
    "  test_losses[it] = loss_test.item()\n",
    "    \n",
    "  if (it + 1) % 50 == 0:\n",
    "    print(f'Epoch {it+1}/{n_epochs}, Train Loss: {loss.item():.4f}, Test Loss: {loss_test.item():.4f}')"
   ]
  },
  {
   "cell_type": "code",
   "execution_count": 17,
   "id": "2eff45d8",
   "metadata": {},
   "outputs": [
    {
     "data": {
      "image/png": "[encoded data removed]",
      "text/plain": [
       "<Figure size 640x480 with 1 Axes>"
      ]
     },
     "metadata": {},
     "output_type": "display_data"
    }
   ],
   "source": [
    "# Plot the train loss and test loss per iteration\n",
    "plt.plot(train_losses, label='train loss')\n",
    "plt.plot(test_losses, label='test loss')\n",
    "plt.legend()\n",
    "plt.show()"
   ]
  },
  {
   "cell_type": "code",
   "execution_count": 18,
   "id": "6af0d00c",
   "metadata": {},
   "outputs": [
    {
     "name": "stdout",
     "output_type": "stream",
     "text": [
      "Train acc: 0.9790, Test acc: 0.9840\n"
     ]
    }
   ],
   "source": [
    "# Get accuracy\n",
    "with torch.no_grad():\n",
    "  p_train = model(X_train)\n",
    "  p_train = np.round(p_train.numpy())\n",
    "  train_acc = np.mean(y_train.numpy() == p_train)\n",
    "\n",
    "  p_test = model(X_test)\n",
    "  p_test = np.round(p_test.numpy())\n",
    "  test_acc = np.mean(y_test.numpy() == p_test)\n",
    "print(f\"Train acc: {train_acc:.4f}, Test acc: {test_acc:.4f}\")"
   ]
  },
  {
   "cell_type": "code",
   "execution_count": 19,
   "id": "e8a0fb8e",
   "metadata": {},
   "outputs": [],
   "source": [
    "# Exercise: Plot the accuracy per iteration too"
   ]
  },
  {
   "cell_type": "markdown",
   "id": "c440ede7",
   "metadata": {},
   "source": [
    "# Save and Load Model"
   ]
  },
  {
   "cell_type": "code",
   "execution_count": 20,
   "id": "1c7596b4",
   "metadata": {},
   "outputs": [
    {
     "data": {
      "text/plain": [
       "OrderedDict([('0.weight',\n",
       "              tensor([[-0.4981, -0.4867, -0.2859, -0.3871, -0.1039, -0.2931, -0.3559, -0.4674,\n",
       "                       -0.1744,  0.6038, -0.4185, -0.0692, -0.3416, -0.5303, -0.0040,  0.4903,\n",
       "                       -0.0703, -0.2197,  0.2073,  0.2791, -0.3515, -0.3982, -0.3918, -0.5110,\n",
       "                       -0.4175, -0.3031, -0.2015, -0.2846, -0.4980, -0.3440]])),\n",
       "             ('0.bias', tensor([0.3798]))])"
      ]
     },
     "execution_count": 20,
     "metadata": {},
     "output_type": "execute_result"
    }
   ],
   "source": [
    "# Look at the state dict\n",
    "model.state_dict()"
   ]
  },
  {
   "cell_type": "code",
   "execution_count": 21,
   "id": "d8e8aaef",
   "metadata": {},
   "outputs": [],
   "source": [
    "#!ls"
   ]
  },
  {
   "cell_type": "code",
   "execution_count": 22,
   "id": "920256fb",
   "metadata": {},
   "outputs": [
    {
     "data": {
      "text/plain": [
       "<All keys matched successfully>"
      ]
     },
     "execution_count": 22,
     "metadata": {},
     "output_type": "execute_result"
    }
   ],
   "source": [
    "# Load the model\n",
    "# Note: this makes more sense and is more compact when\n",
    "# your model is a big class, as we will be seeing later.\n",
    "model2 = nn.Sequential(\n",
    "    nn.Linear(D, 1),\n",
    "    nn.Sigmoid()\n",
    ")\n",
    "model2.load_state_dict(torch.load('mymodel.pt'))"
   ]
  },
  {
   "cell_type": "code",
   "execution_count": 23,
   "id": "36e73e61",
   "metadata": {},
   "outputs": [
    {
     "name": "stdout",
     "output_type": "stream",
     "text": [
      "Train acc: 0.9764, Test acc: 0.9894\n"
     ]
    }
   ],
   "source": [
    "# Evaluate the new model\n",
    "# Results should be the same!\n",
    "with torch.no_grad():\n",
    "  p_train = model2(X_train)\n",
    "  p_train = np.round(p_train.numpy())\n",
    "  train_acc = np.mean(y_train.numpy() == p_train)\n",
    "\n",
    "  p_test = model2(X_test)\n",
    "  p_test = np.round(p_test.numpy())\n",
    "  test_acc = np.mean(y_test.numpy() == p_test)\n",
    "print(f\"Train acc: {train_acc:.4f}, Test acc: {test_acc:.4f}\")"
   ]
  }
 ],
 "metadata": {
  "kernelspec": {
   "display_name": "Python 3 (ipykernel)",
   "language": "python",
   "name": "python3"
  },
  "language_info": {
   "codemirror_mode": {
    "name": "ipython",
    "version": 3
   },
   "file_extension": ".py",
   "mimetype": "text/x-python",
   "name": "python",
   "nbconvert_exporter": "python",
   "pygments_lexer": "ipython3",
   "version": "3.9.16"
  }
 },
 "nbformat": 4,
 "nbformat_minor": 5
}
