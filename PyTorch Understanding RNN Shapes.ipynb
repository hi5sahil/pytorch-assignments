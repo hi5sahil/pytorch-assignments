{
 "cells": [
  {
   "cell_type": "code",
   "execution_count": 1,
   "id": "f3ec38ea",
   "metadata": {},
   "outputs": [],
   "source": [
    "import torch\n",
    "import torch.nn as nn\n",
    "import numpy as np\n",
    "import matplotlib.pyplot as plt"
   ]
  },
  {
   "cell_type": "code",
   "execution_count": 2,
   "id": "b3f0d755",
   "metadata": {},
   "outputs": [],
   "source": [
    "# Things you should automatically know and have memorized\n",
    "# N = number of samples\n",
    "# T = sequence length\n",
    "# D = number of input features\n",
    "# M = number of hidden units (similar to hidden units in ANN)\n",
    "# K = number of output units (K > 1 can be for both multi-dimensional classification & regression)"
   ]
  },
  {
   "cell_type": "code",
   "execution_count": 3,
   "id": "c3215ac8",
   "metadata": {},
   "outputs": [],
   "source": [
    "# Make some data\n",
    "N = 1\n",
    "T = 10\n",
    "D = 3\n",
    "M = 5\n",
    "K = 2\n",
    "X = np.random.randn(N, T, D)"
   ]
  },
  {
   "cell_type": "code",
   "execution_count": 4,
   "id": "c71affbb",
   "metadata": {},
   "outputs": [],
   "source": [
    "# Make an RNN\n",
    "class SimpleRNN(nn.Module):\n",
    "  def __init__(self, n_inputs, n_hidden, n_outputs):\n",
    "    super(SimpleRNN, self).__init__()\n",
    "    self.D = n_inputs\n",
    "    self.M = n_hidden\n",
    "    self.K = n_outputs\n",
    "    self.rnn = nn.RNN(\n",
    "        input_size=self.D,\n",
    "        hidden_size=self.M,\n",
    "        nonlinearity='tanh',\n",
    "        batch_first=True)\n",
    "    self.fc = nn.Linear(self.M, self.K)\n",
    "  \n",
    "  def forward(self, X):\n",
    "    # initial hidden states\n",
    "    h0 = torch.zeros(1, X.size(0), self.M)\n",
    "\n",
    "    # get RNN unit output\n",
    "    out, _ = self.rnn(X, h0)\n",
    "\n",
    "    # we only want h(T) at the final time step\n",
    "    # out = self.fc(out[:, -1, :])\n",
    "    out = self.fc(out)\n",
    "    return out"
   ]
  },
  {
   "cell_type": "code",
   "execution_count": 5,
   "id": "6d39a0fd",
   "metadata": {},
   "outputs": [],
   "source": [
    "# Instantiate the model\n",
    "model = SimpleRNN(n_inputs=D, n_hidden=M, n_outputs=K)"
   ]
  },
  {
   "cell_type": "code",
   "execution_count": 6,
   "id": "5df8d2ee",
   "metadata": {},
   "outputs": [
    {
     "data": {
      "text/plain": [
       "array([[[ 0.45559783, -0.16725984,  1.00291235],\n",
       "        [ 0.77751218,  0.79736996, -0.86861649],\n",
       "        [ 0.39083605, -0.38366753, -0.8010485 ],\n",
       "        [-1.49520601, -0.15733797,  0.01884234],\n",
       "        [-0.14028233, -2.31122115, -1.13235073],\n",
       "        [ 0.74420014,  1.21497542,  0.47943072],\n",
       "        [-0.69169127,  0.46438335, -0.94206014],\n",
       "        [ 0.9346199 ,  0.2526913 ,  0.97838357],\n",
       "        [-0.04884489,  0.04625612,  0.90359591],\n",
       "        [ 1.10330945,  0.69241498, -1.05888735]]])"
      ]
     },
     "execution_count": 6,
     "metadata": {},
     "output_type": "execute_result"
    }
   ],
   "source": [
    "X"
   ]
  },
  {
   "cell_type": "code",
   "execution_count": 7,
   "id": "76ef64f0",
   "metadata": {},
   "outputs": [
    {
     "data": {
      "text/plain": [
       "tensor([[[ 0.0068,  0.2706],\n",
       "         [-0.0469,  0.3847],\n",
       "         [-0.0536,  0.4782],\n",
       "         [-0.0869,  0.4981],\n",
       "         [ 0.0505,  0.7588],\n",
       "         [-0.0368,  0.2807],\n",
       "         [-0.2325,  0.2890],\n",
       "         [-0.0180,  0.1703],\n",
       "         [-0.1668,  0.1577],\n",
       "         [ 0.0773,  0.4717]]], grad_fn=<ViewBackward0>)"
      ]
     },
     "execution_count": 7,
     "metadata": {},
     "output_type": "execute_result"
    }
   ],
   "source": [
    "# Get the output\n",
    "inputs = torch.from_numpy(X.astype(np.float32))\n",
    "out = model(inputs)\n",
    "out"
   ]
  },
  {
   "cell_type": "code",
   "execution_count": 8,
   "id": "96d1dd24",
   "metadata": {},
   "outputs": [
    {
     "data": {
      "text/plain": [
       "torch.Size([1, 10, 2])"
      ]
     },
     "execution_count": 8,
     "metadata": {},
     "output_type": "execute_result"
    }
   ],
   "source": [
    "out.shape"
   ]
  },
  {
   "cell_type": "code",
   "execution_count": 9,
   "id": "a03b72df",
   "metadata": {},
   "outputs": [],
   "source": [
    "# Save for later\n",
    "Yhats_torch = out.detach().numpy()"
   ]
  },
  {
   "cell_type": "code",
   "execution_count": 10,
   "id": "e7d20deb",
   "metadata": {},
   "outputs": [],
   "source": [
    "W_xh, W_hh, b_xh, b_hh = model.rnn.parameters()"
   ]
  },
  {
   "cell_type": "code",
   "execution_count": 11,
   "id": "7b6d2c80",
   "metadata": {},
   "outputs": [
    {
     "data": {
      "text/plain": [
       "torch.Size([5, 3])"
      ]
     },
     "execution_count": 11,
     "metadata": {},
     "output_type": "execute_result"
    }
   ],
   "source": [
    "# M x D (input to hidden) Transpose\n",
    "W_xh.shape"
   ]
  },
  {
   "cell_type": "code",
   "execution_count": 12,
   "id": "fa804434",
   "metadata": {},
   "outputs": [
    {
     "data": {
      "text/plain": [
       "torch.Size([5, 5])"
      ]
     },
     "execution_count": 12,
     "metadata": {},
     "output_type": "execute_result"
    }
   ],
   "source": [
    "# M x M (hidden to hidden) Transpose\n",
    "W_hh.shape"
   ]
  },
  {
   "cell_type": "code",
   "execution_count": 13,
   "id": "f4f81a96",
   "metadata": {},
   "outputs": [
    {
     "data": {
      "text/plain": [
       "Parameter containing:\n",
       "tensor([ 0.4368,  0.1357, -0.1267, -0.1542, -0.1866], requires_grad=True)"
      ]
     },
     "execution_count": 13,
     "metadata": {},
     "output_type": "execute_result"
    }
   ],
   "source": [
    "# Pytorch gives 2 biases : (1) input to hidden bias\n",
    "b_xh"
   ]
  },
  {
   "cell_type": "code",
   "execution_count": 14,
   "id": "1398683c",
   "metadata": {},
   "outputs": [
    {
     "data": {
      "text/plain": [
       "Parameter containing:\n",
       "tensor([-0.2114,  0.0012, -0.4216, -0.0020,  0.3457], requires_grad=True)"
      ]
     },
     "execution_count": 14,
     "metadata": {},
     "output_type": "execute_result"
    }
   ],
   "source": [
    "# Pytorch gives 2 biases : (2) hidden to hidden bias\n",
    "b_hh"
   ]
  },
  {
   "cell_type": "code",
   "execution_count": 15,
   "id": "b1b8cf2b",
   "metadata": {},
   "outputs": [
    {
     "data": {
      "text/plain": [
       "Parameter containing:\n",
       "tensor([[ 0.2619, -0.4260,  0.1387],\n",
       "        [ 0.1793,  0.2145,  0.1761],\n",
       "        [ 0.4203,  0.3563,  0.2998],\n",
       "        [-0.1127, -0.0014,  0.2368],\n",
       "        [-0.1317, -0.0281, -0.2126]], requires_grad=True)"
      ]
     },
     "execution_count": 15,
     "metadata": {},
     "output_type": "execute_result"
    }
   ],
   "source": [
    "W_xh"
   ]
  },
  {
   "cell_type": "code",
   "execution_count": 16,
   "id": "f026a6f9",
   "metadata": {},
   "outputs": [
    {
     "data": {
      "text/plain": [
       "array([[ 0.2619323 , -0.42599908,  0.13866633],\n",
       "       [ 0.17934269,  0.21446586,  0.17613333],\n",
       "       [ 0.42032683,  0.3563159 ,  0.29977322],\n",
       "       [-0.11274099, -0.00143483,  0.2367993 ],\n",
       "       [-0.1317223 , -0.02805439, -0.21260928]], dtype=float32)"
      ]
     },
     "execution_count": 16,
     "metadata": {},
     "output_type": "execute_result"
    }
   ],
   "source": [
    "W_xh = W_xh.data.numpy()\n",
    "W_xh"
   ]
  },
  {
   "cell_type": "code",
   "execution_count": 17,
   "id": "f6dd7c77",
   "metadata": {},
   "outputs": [],
   "source": [
    "b_xh = b_xh.data.numpy()\n",
    "W_hh = W_hh.data.numpy()\n",
    "b_hh = b_hh.data.numpy()"
   ]
  },
  {
   "cell_type": "code",
   "execution_count": 18,
   "id": "da8a5afd",
   "metadata": {},
   "outputs": [
    {
     "data": {
      "text/plain": [
       "((5, 3), (5,), (5, 5), (5,))"
      ]
     },
     "execution_count": 18,
     "metadata": {},
     "output_type": "execute_result"
    }
   ],
   "source": [
    "# Did we do it right?\n",
    "W_xh.shape, b_xh.shape, W_hh.shape, b_hh.shape"
   ]
  },
  {
   "cell_type": "code",
   "execution_count": 19,
   "id": "484d7106",
   "metadata": {},
   "outputs": [],
   "source": [
    "# Now get the FC layer weights\n",
    "Wo, bo = model.fc.parameters()"
   ]
  },
  {
   "cell_type": "code",
   "execution_count": 20,
   "id": "76dc03e8",
   "metadata": {},
   "outputs": [
    {
     "data": {
      "text/plain": [
       "((2, 5), (2,))"
      ]
     },
     "execution_count": 20,
     "metadata": {},
     "output_type": "execute_result"
    }
   ],
   "source": [
    "Wo = Wo.data.numpy()\n",
    "bo = bo.data.numpy()\n",
    "Wo.shape, bo.shape"
   ]
  },
  {
   "cell_type": "code",
   "execution_count": 21,
   "id": "c4a2b50a",
   "metadata": {},
   "outputs": [
    {
     "name": "stdout",
     "output_type": "stream",
     "text": [
      "[[ 0.00684706  0.27062538]\n",
      " [-0.04693386  0.38468926]\n",
      " [-0.05355885  0.47819874]\n",
      " [-0.08685729  0.4981236 ]\n",
      " [ 0.05051763  0.75876122]\n",
      " [-0.03683864  0.28071162]\n",
      " [-0.23248158  0.28903397]\n",
      " [-0.01796208  0.17027288]\n",
      " [-0.16684348  0.15766129]\n",
      " [ 0.07731097  0.47172901]]\n"
     ]
    }
   ],
   "source": [
    "# Manual RNN\n",
    "# See if we can replicate the output\n",
    "h_last = np.zeros(M) # initial hidden state\n",
    "x = X[0] # the one and only sample\n",
    "Yhats = np.zeros((T, K)) # where we store the outputs\n",
    "\n",
    "for t in range(T):\n",
    "  h = np.tanh(x[t].dot(W_xh.T) + b_xh + h_last.dot(W_hh.T) + b_hh)\n",
    "  y = h.dot(Wo.T) + bo # we only care about this value on the last iteration\n",
    "  Yhats[t] = y\n",
    "  \n",
    "  # important: assign h to h_last\n",
    "  h_last = h\n",
    "\n",
    "# print the final output\n",
    "print(Yhats)"
   ]
  },
  {
   "cell_type": "code",
   "execution_count": 22,
   "id": "a84149ee",
   "metadata": {},
   "outputs": [
    {
     "data": {
      "text/plain": [
       "True"
      ]
     },
     "execution_count": 22,
     "metadata": {},
     "output_type": "execute_result"
    }
   ],
   "source": [
    "# Check\n",
    "np.allclose(Yhats, Yhats_torch)"
   ]
  },
  {
   "cell_type": "code",
   "execution_count": 23,
   "id": "0d317804",
   "metadata": {},
   "outputs": [],
   "source": [
    "# Bonus exercise: calculate the output for multiple samples at once (N > 1)"
   ]
  }
 ],
 "metadata": {
  "kernelspec": {
   "display_name": "Python 3 (ipykernel)",
   "language": "python",
   "name": "python3"
  },
  "language_info": {
   "codemirror_mode": {
    "name": "ipython",
    "version": 3
   },
   "file_extension": ".py",
   "mimetype": "text/x-python",
   "name": "python",
   "nbconvert_exporter": "python",
   "pygments_lexer": "ipython3",
   "version": "3.9.16"
  }
 },
 "nbformat": 4,
 "nbformat_minor": 5
}
