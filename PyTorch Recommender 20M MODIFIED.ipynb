{
 "cells": [
  {
   "cell_type": "markdown",
   "id": "276999e8",
   "metadata": {},
   "source": [
    "The modified version is:\n",
    "\n",
    "* Faster\n",
    "\n",
    "* Finds a better answer"
   ]
  },
  {
   "cell_type": "code",
   "execution_count": 1,
   "id": "e53931da",
   "metadata": {},
   "outputs": [],
   "source": [
    "import numpy as np\n",
    "import pandas as pd\n",
    "import matplotlib.pyplot as plt\n",
    "from datetime import datetime\n",
    "from sklearn.utils import shuffle\n",
    "import torch\n",
    "import torch.nn as nn\n",
    "import torch.nn.functional as F"
   ]
  },
  {
   "cell_type": "code",
   "execution_count": 2,
   "id": "11a55baa",
   "metadata": {},
   "outputs": [],
   "source": [
    "# data is from: https://grouplens.org/datasets/movielens/\n",
    "# in case the link changes in the future\n",
    "\n",
    "# !wget -nc http://files.grouplens.org/datasets/movielens/ml-20m.zip"
   ]
  },
  {
   "cell_type": "code",
   "execution_count": 3,
   "id": "f9ff49d1",
   "metadata": {},
   "outputs": [],
   "source": [
    "# !unzip -n ml-20m.zip"
   ]
  },
  {
   "cell_type": "code",
   "execution_count": 18,
   "id": "223b2e40",
   "metadata": {},
   "outputs": [],
   "source": [
    "# !ls"
   ]
  },
  {
   "cell_type": "code",
   "execution_count": 5,
   "id": "6f01c006",
   "metadata": {},
   "outputs": [
    {
     "data": {
      "text/html": [
       "<div>\n",
       "<style scoped>\n",
       "    .dataframe tbody tr th:only-of-type {\n",
       "        vertical-align: middle;\n",
       "    }\n",
       "\n",
       "    .dataframe tbody tr th {\n",
       "        vertical-align: top;\n",
       "    }\n",
       "\n",
       "    .dataframe thead th {\n",
       "        text-align: right;\n",
       "    }\n",
       "</style>\n",
       "<table border=\"1\" class=\"dataframe\">\n",
       "  <thead>\n",
       "    <tr style=\"text-align: right;\">\n",
       "      <th></th>\n",
       "      <th>userId</th>\n",
       "      <th>movieId</th>\n",
       "      <th>rating</th>\n",
       "      <th>timestamp</th>\n",
       "    </tr>\n",
       "  </thead>\n",
       "  <tbody>\n",
       "    <tr>\n",
       "      <th>0</th>\n",
       "      <td>1</td>\n",
       "      <td>2</td>\n",
       "      <td>3.5</td>\n",
       "      <td>1112486027</td>\n",
       "    </tr>\n",
       "    <tr>\n",
       "      <th>1</th>\n",
       "      <td>1</td>\n",
       "      <td>29</td>\n",
       "      <td>3.5</td>\n",
       "      <td>1112484676</td>\n",
       "    </tr>\n",
       "    <tr>\n",
       "      <th>2</th>\n",
       "      <td>1</td>\n",
       "      <td>32</td>\n",
       "      <td>3.5</td>\n",
       "      <td>1112484819</td>\n",
       "    </tr>\n",
       "    <tr>\n",
       "      <th>3</th>\n",
       "      <td>1</td>\n",
       "      <td>47</td>\n",
       "      <td>3.5</td>\n",
       "      <td>1112484727</td>\n",
       "    </tr>\n",
       "    <tr>\n",
       "      <th>4</th>\n",
       "      <td>1</td>\n",
       "      <td>50</td>\n",
       "      <td>3.5</td>\n",
       "      <td>1112484580</td>\n",
       "    </tr>\n",
       "  </tbody>\n",
       "</table>\n",
       "</div>"
      ],
      "text/plain": [
       "   userId  movieId  rating   timestamp\n",
       "0       1        2     3.5  1112486027\n",
       "1       1       29     3.5  1112484676\n",
       "2       1       32     3.5  1112484819\n",
       "3       1       47     3.5  1112484727\n",
       "4       1       50     3.5  1112484580"
      ]
     },
     "execution_count": 5,
     "metadata": {},
     "output_type": "execute_result"
    }
   ],
   "source": [
    "df = pd.read_csv('ml-20m/ratings.csv')\n",
    "df.head()"
   ]
  },
  {
   "cell_type": "code",
   "execution_count": 6,
   "id": "0982f4b7",
   "metadata": {},
   "outputs": [],
   "source": [
    "# We can't trust the userId and movieId to be numbered 0...N-1\n",
    "# Let's just set our own ids\n",
    "\n",
    "# current_user_id = 0\n",
    "# custom_user_map = {} # old user id > new user id\n",
    "# def map_user_id(row):\n",
    "#   global current_user_id, custom_user_map\n",
    "#   old_user_id = row['userId']\n",
    "#   if old_user_id not in custom_user_map:\n",
    "#     custom_user_map[old_user_id] = current_user_id\n",
    "#     current_user_id += 1\n",
    "#   return custom_user_map[old_user_id]\n",
    "\n",
    "# df['new_user_id'] = df.apply(map_user_id, axis=1)\n",
    "\n",
    "df.userId = pd.Categorical(df.userId)\n",
    "df['new_user_id'] = df.userId.cat.codes"
   ]
  },
  {
   "cell_type": "code",
   "execution_count": 7,
   "id": "e5e5e9cf",
   "metadata": {},
   "outputs": [],
   "source": [
    "# Now do the same thing for movie ids\n",
    "# current_movie_id = 0\n",
    "# custom_movie_map = {} # old movie id > new movie id\n",
    "# def map_movie_id(row):\n",
    "#   global current_movie_id, custom_movie_map\n",
    "#   old_movie_id = row['movieId']\n",
    "#   if old_movie_id not in custom_movie_map:\n",
    "#     custom_movie_map[old_movie_id] = current_movie_id\n",
    "#     current_movie_id += 1\n",
    "#   return custom_movie_map[old_movie_id]\n",
    "\n",
    "# df['new_movie_id'] = df.apply(map_movie_id, axis=1)\n",
    "\n",
    "df.movieId = pd.Categorical(df.movieId)\n",
    "df['new_movie_id'] = df.movieId.cat.codes"
   ]
  },
  {
   "cell_type": "code",
   "execution_count": 8,
   "id": "4d3f3cc2",
   "metadata": {},
   "outputs": [],
   "source": [
    "# Get user IDs, movie IDs, and ratings as separate arrays\n",
    "user_ids = df['new_user_id'].values\n",
    "movie_ids = df['new_movie_id'].values\n",
    "ratings = df['rating'].values - 2.5"
   ]
  },
  {
   "cell_type": "code",
   "execution_count": 9,
   "id": "404709fd",
   "metadata": {},
   "outputs": [],
   "source": [
    "# Get number of users and number of movies\n",
    "N = len(set(user_ids))\n",
    "M = len(set(movie_ids))\n",
    "\n",
    "# Set embedding dimension\n",
    "D = 10"
   ]
  },
  {
   "cell_type": "markdown",
   "id": "569a64e0",
   "metadata": {},
   "source": [
    "# Sanity Checks?\n",
    "\n",
    "* Copy weights from tensor flow to pytorch\n",
    "* Use the exact same optimizers\n",
    "* Weight initialization? - sample from uniform or gaussain (choose variance)\n"
   ]
  },
  {
   "cell_type": "code",
   "execution_count": 10,
   "id": "23c8f64e",
   "metadata": {},
   "outputs": [],
   "source": [
    "# Make a neural network\n",
    "class Model(nn.Module):\n",
    "  def __init__(self, n_users, n_items, embed_dim, n_hidden=1024):\n",
    "    super(Model, self).__init__()\n",
    "    self.N = n_users\n",
    "    self.M = n_items\n",
    "    self.D = embed_dim\n",
    "\n",
    "    self.u_emb = nn.Embedding(self.N, self.D)\n",
    "    self.m_emb = nn.Embedding(self.M, self.D)\n",
    "    self.fc1 = nn.Linear(2 * self.D, n_hidden)\n",
    "    self.fc2 = nn.Linear(n_hidden, 1)\n",
    "\n",
    "    # set the weights since standard normal i.e. N(0, 1) leads to poor results\n",
    "    # But N(0, 0.01) gives better results\n",
    "    \n",
    "    self.u_emb.weight.data = nn.Parameter(\n",
    "        torch.Tensor(np.random.randn(self.N, self.D) * 0.01))\n",
    "    self.m_emb.weight.data = nn.Parameter(\n",
    "        torch.Tensor(np.random.randn(self.M, self.D) * 0.01))\n",
    "  \n",
    "  def forward(self, u, m):\n",
    "    u = self.u_emb(u) # output is (num_samples, D)\n",
    "    m = self.m_emb(m) # output is (num_samples, D)\n",
    "\n",
    "    # merge\n",
    "    out = torch.cat((u, m), 1) # output is (num_samples, 2D)\n",
    "\n",
    "    # ANN\n",
    "    out = self.fc1(out)\n",
    "    out = F.relu(out)\n",
    "    out = self.fc2(out)\n",
    "    return out"
   ]
  },
  {
   "cell_type": "code",
   "execution_count": 11,
   "id": "60bb0e73",
   "metadata": {},
   "outputs": [
    {
     "name": "stdout",
     "output_type": "stream",
     "text": [
      "cpu\n"
     ]
    }
   ],
   "source": [
    "device = torch.device(\"cuda:0\" if torch.cuda.is_available() else \"cpu\")\n",
    "print(device)"
   ]
  },
  {
   "cell_type": "code",
   "execution_count": 12,
   "id": "6e9ea344",
   "metadata": {},
   "outputs": [
    {
     "data": {
      "text/plain": [
       "Model(\n",
       "  (u_emb): Embedding(138493, 10)\n",
       "  (m_emb): Embedding(26744, 10)\n",
       "  (fc1): Linear(in_features=20, out_features=1024, bias=True)\n",
       "  (fc2): Linear(in_features=1024, out_features=1, bias=True)\n",
       ")"
      ]
     },
     "execution_count": 12,
     "metadata": {},
     "output_type": "execute_result"
    }
   ],
   "source": [
    "model = Model(N, M, D)\n",
    "model.to(device)"
   ]
  },
  {
   "cell_type": "code",
   "execution_count": 13,
   "id": "118173da",
   "metadata": {},
   "outputs": [],
   "source": [
    "# Loss and optimizer\n",
    "criterion = nn.MSELoss()\n",
    "# optimizer = torch.optim.Adam(model.parameters())\n",
    "optimizer = torch.optim.SGD(model.parameters(), lr=0.08, momentum=0.9)"
   ]
  },
  {
   "cell_type": "code",
   "execution_count": 14,
   "id": "a99c9270",
   "metadata": {},
   "outputs": [],
   "source": [
    "def batch_gd2(model, criterion, optimizer, train_data, test_data, epochs, bs=512):\n",
    "  train_users, train_movies, train_ratings = train_data\n",
    "  test_users, test_movies, test_ratings = test_data\n",
    "\n",
    "  train_losses = np.zeros(epochs)\n",
    "  test_losses = np.zeros(epochs)\n",
    "\n",
    "  # batches per epoch\n",
    "  Ntrain = len(train_users)\n",
    "  batches_per_epoch = int(np.ceil(Ntrain / bs))\n",
    "\n",
    "  for it in range(epochs):\n",
    "    t0 = datetime.now()\n",
    "    train_loss = []\n",
    "\n",
    "    # shuffle each batch\n",
    "    train_users, train_movies, train_ratings = shuffle(\n",
    "        train_users, train_movies, train_ratings\n",
    "    )\n",
    "\n",
    "    for j in range(batches_per_epoch):\n",
    "      # get the batch\n",
    "      users = train_users[j*bs:(j+1)*bs]\n",
    "      movies = train_movies[j*bs:(j+1)*bs]\n",
    "      targets = train_ratings[j*bs:(j+1)*bs]\n",
    "\n",
    "      # conver to tensor\n",
    "      users = torch.from_numpy(users).long()\n",
    "      movies = torch.from_numpy(movies).long()\n",
    "      targets = torch.from_numpy(targets)\n",
    "    \n",
    "      # reshape targets\n",
    "      targets = targets.view(-1, 1).float()\n",
    "\n",
    "      # move data to GPU\n",
    "      users, movies, targets = users.to(device), movies.to(device), targets.to(device)\n",
    "\n",
    "      # zero the parameter gradients\n",
    "      optimizer.zero_grad()\n",
    "\n",
    "      # Forward pass\n",
    "      outputs = model(users, movies)\n",
    "      loss = criterion(outputs, targets)\n",
    "        \n",
    "      # Backward and optimize\n",
    "      loss.backward()\n",
    "      optimizer.step()\n",
    "\n",
    "      train_loss.append(loss.item())\n",
    "\n",
    "    # Get train loss and test loss\n",
    "    train_loss = np.mean(train_loss) # a little misleading\n",
    "    \n",
    "    # we could do this if the test set size was manageable\n",
    "    # test_outputs = model(test_users, test_movies)\n",
    "    # test_loss = criterion(test_outputs, test_ratings).item()\n",
    "    test_loss = []\n",
    "    for j in range(int(np.ceil(len(test_users) / bs))):\n",
    "      # get the batch\n",
    "      users = test_users[j*bs:(j+1)*bs]\n",
    "      movies = test_movies[j*bs:(j+1)*bs]\n",
    "      targets = test_ratings[j*bs:(j+1)*bs]\n",
    "\n",
    "      # conver to tensor\n",
    "      users = torch.from_numpy(users).long()\n",
    "      movies = torch.from_numpy(movies).long()\n",
    "      targets = torch.from_numpy(targets)\n",
    "    \n",
    "      # reshape targets\n",
    "      targets = targets.view(-1, 1).float()\n",
    "\n",
    "      # move data to GPU\n",
    "      users, movies, targets = users.to(device), movies.to(device), targets.to(device)\n",
    "\n",
    "      outputs = model(users, movies)\n",
    "      loss = criterion(outputs, targets).item()\n",
    "      test_loss.append(loss)\n",
    "    test_loss = np.mean(test_loss)\n",
    "\n",
    "    # Save losses\n",
    "    train_losses[it] = train_loss\n",
    "    test_losses[it] = test_loss\n",
    "    \n",
    "    dt = datetime.now() - t0\n",
    "    print(f'Epoch {it+1}/{epochs}, Train Loss: {train_loss:.4f}, '\n",
    "          f'Test Loss: {test_loss:.4f}, Duration: {dt}')\n",
    "  \n",
    "  return train_losses, test_losses"
   ]
  },
  {
   "cell_type": "code",
   "execution_count": 15,
   "id": "3f159dde",
   "metadata": {},
   "outputs": [],
   "source": [
    "# shuffle the data in corresponding order\n",
    "user_ids, movie_ids, ratings = shuffle(user_ids, movie_ids, ratings)"
   ]
  },
  {
   "cell_type": "code",
   "execution_count": 16,
   "id": "43bd1f3f",
   "metadata": {},
   "outputs": [
    {
     "name": "stdout",
     "output_type": "stream",
     "text": [
      "Epoch 1/10, Train Loss: 0.7355, Test Loss: 0.6945, Duration: 0:07:49.324427\n",
      "Epoch 2/10, Train Loss: 0.6703, Test Loss: 0.6655, Duration: 0:08:05.727832\n",
      "Epoch 3/10, Train Loss: 0.6383, Test Loss: 0.6532, Duration: 0:07:58.364170\n",
      "Epoch 4/10, Train Loss: 0.6143, Test Loss: 0.6424, Duration: 0:09:35.174353\n",
      "Epoch 5/10, Train Loss: 0.5975, Test Loss: 0.6367, Duration: 0:09:10.578925\n",
      "Epoch 6/10, Train Loss: 0.5851, Test Loss: 0.6365, Duration: 0:09:22.976826\n",
      "Epoch 7/10, Train Loss: 0.5755, Test Loss: 0.6298, Duration: 0:09:07.732010\n",
      "Epoch 8/10, Train Loss: 0.5682, Test Loss: 0.6289, Duration: 0:09:30.551119\n",
      "Epoch 9/10, Train Loss: 0.5624, Test Loss: 0.6303, Duration: 0:09:39.493291\n",
      "Epoch 10/10, Train Loss: 0.5576, Test Loss: 0.6354, Duration: 0:09:12.301830\n"
     ]
    }
   ],
   "source": [
    "Ntrain = int(0.8 * len(ratings))\n",
    "train_users = user_ids[:Ntrain]\n",
    "train_movies = movie_ids[:Ntrain]\n",
    "train_ratings = ratings[:Ntrain]\n",
    "\n",
    "test_users = user_ids[Ntrain:]\n",
    "test_movies = movie_ids[Ntrain:]\n",
    "test_ratings = ratings[Ntrain:]\n",
    "\n",
    "train_losses, test_losses = batch_gd2(\n",
    "    model,\n",
    "    criterion,\n",
    "    optimizer,\n",
    "    (train_users, train_movies, train_ratings),\n",
    "    (test_users, test_movies, test_ratings),\n",
    "    10)"
   ]
  },
  {
   "cell_type": "code",
   "execution_count": 17,
   "id": "c86b06a3",
   "metadata": {},
   "outputs": [
    {
     "data": {
      "image/png": "[encoded data removed]",
      "text/plain": [
       "<Figure size 640x480 with 1 Axes>"
      ]
     },
     "metadata": {},
     "output_type": "display_data"
    }
   ],
   "source": [
    "# Plot the train loss and test loss per iteration\n",
    "plt.plot(train_losses, label='train loss')\n",
    "plt.plot(test_losses, label='test loss')\n",
    "plt.legend()\n",
    "plt.show()"
   ]
  },
  {
   "cell_type": "code",
   "execution_count": null,
   "id": "e4ce9d35",
   "metadata": {},
   "outputs": [],
   "source": []
  }
 ],
 "metadata": {
  "kernelspec": {
   "display_name": "Python 3 (ipykernel)",
   "language": "python",
   "name": "python3"
  },
  "language_info": {
   "codemirror_mode": {
    "name": "ipython",
    "version": 3
   },
   "file_extension": ".py",
   "mimetype": "text/x-python",
   "name": "python",
   "nbconvert_exporter": "python",
   "pygments_lexer": "ipython3",
   "version": "3.9.16"
  }
 },
 "nbformat": 4,
 "nbformat_minor": 5
}
