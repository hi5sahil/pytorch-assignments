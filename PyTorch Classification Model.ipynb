{
 "cells": [
  {
   "cell_type": "code",
   "execution_count": 1,
   "id": "83573894",
   "metadata": {},
   "outputs": [],
   "source": [
    "import torch\n",
    "import torch.nn as nn\n",
    "import numpy as np\n",
    "import matplotlib.pyplot as plt"
   ]
  },
  {
   "cell_type": "code",
   "execution_count": 2,
   "id": "c7d6f651",
   "metadata": {},
   "outputs": [],
   "source": [
    "# Load in the data\n",
    "from sklearn.datasets import load_breast_cancer"
   ]
  },
  {
   "cell_type": "code",
   "execution_count": 3,
   "id": "09fc113e",
   "metadata": {},
   "outputs": [],
   "source": [
    "# load the data\n",
    "data = load_breast_cancer()"
   ]
  },
  {
   "cell_type": "code",
   "execution_count": 4,
   "id": "f14b7de1",
   "metadata": {},
   "outputs": [
    {
     "data": {
      "text/plain": [
       "sklearn.utils._bunch.Bunch"
      ]
     },
     "execution_count": 4,
     "metadata": {},
     "output_type": "execute_result"
    }
   ],
   "source": [
    "# check the type of 'data'\n",
    "type(data)"
   ]
  },
  {
   "cell_type": "code",
   "execution_count": 5,
   "id": "5115e21f",
   "metadata": {},
   "outputs": [
    {
     "data": {
      "text/plain": [
       "dict_keys(['data', 'target', 'frame', 'target_names', 'DESCR', 'feature_names', 'filename', 'data_module'])"
      ]
     },
     "execution_count": 5,
     "metadata": {},
     "output_type": "execute_result"
    }
   ],
   "source": [
    "# note: it is a Bunch object\n",
    "# this basically acts like a dictionary where you can treat the keys like attributes\n",
    "data.keys()"
   ]
  },
  {
   "cell_type": "code",
   "execution_count": 6,
   "id": "72932489",
   "metadata": {},
   "outputs": [
    {
     "data": {
      "text/plain": [
       "(569, 30)"
      ]
     },
     "execution_count": 6,
     "metadata": {},
     "output_type": "execute_result"
    }
   ],
   "source": [
    "# 'data' (the attribute) means the input data\n",
    "data.data.shape\n",
    "# it has 569 samples, 30 features"
   ]
  },
  {
   "cell_type": "code",
   "execution_count": 7,
   "id": "27c6ffd1",
   "metadata": {},
   "outputs": [
    {
     "data": {
      "text/plain": [
       "array([[1.799e+01, 1.038e+01, 1.228e+02, ..., 2.654e-01, 4.601e-01,\n",
       "        1.189e-01],\n",
       "       [2.057e+01, 1.777e+01, 1.329e+02, ..., 1.860e-01, 2.750e-01,\n",
       "        8.902e-02],\n",
       "       [1.969e+01, 2.125e+01, 1.300e+02, ..., 2.430e-01, 3.613e-01,\n",
       "        8.758e-02],\n",
       "       ...,\n",
       "       [1.660e+01, 2.808e+01, 1.083e+02, ..., 1.418e-01, 2.218e-01,\n",
       "        7.820e-02],\n",
       "       [2.060e+01, 2.933e+01, 1.401e+02, ..., 2.650e-01, 4.087e-01,\n",
       "        1.240e-01],\n",
       "       [7.760e+00, 2.454e+01, 4.792e+01, ..., 0.000e+00, 2.871e-01,\n",
       "        7.039e-02]])"
      ]
     },
     "execution_count": 7,
     "metadata": {},
     "output_type": "execute_result"
    }
   ],
   "source": [
    "data.data"
   ]
  },
  {
   "cell_type": "code",
   "execution_count": 8,
   "id": "d86a2881",
   "metadata": {},
   "outputs": [
    {
     "data": {
      "text/plain": [
       "array([0, 0, 0, 0, 0, 0, 0, 0, 0, 0, 0, 0, 0, 0, 0, 0, 0, 0, 0, 1, 1, 1,\n",
       "       0, 0, 0, 0, 0, 0, 0, 0, 0, 0, 0, 0, 0, 0, 0, 1, 0, 0, 0, 0, 0, 0,\n",
       "       0, 0, 1, 0, 1, 1, 1, 1, 1, 0, 0, 1, 0, 0, 1, 1, 1, 1, 0, 1, 0, 0,\n",
       "       1, 1, 1, 1, 0, 1, 0, 0, 1, 0, 1, 0, 0, 1, 1, 1, 0, 0, 1, 0, 0, 0,\n",
       "       1, 1, 1, 0, 1, 1, 0, 0, 1, 1, 1, 0, 0, 1, 1, 1, 1, 0, 1, 1, 0, 1,\n",
       "       1, 1, 1, 1, 1, 1, 1, 0, 0, 0, 1, 0, 0, 1, 1, 1, 0, 0, 1, 0, 1, 0,\n",
       "       0, 1, 0, 0, 1, 1, 0, 1, 1, 0, 1, 1, 1, 1, 0, 1, 1, 1, 1, 1, 1, 1,\n",
       "       1, 1, 0, 1, 1, 1, 1, 0, 0, 1, 0, 1, 1, 0, 0, 1, 1, 0, 0, 1, 1, 1,\n",
       "       1, 0, 1, 1, 0, 0, 0, 1, 0, 1, 0, 1, 1, 1, 0, 1, 1, 0, 0, 1, 0, 0,\n",
       "       0, 0, 1, 0, 0, 0, 1, 0, 1, 0, 1, 1, 0, 1, 0, 0, 0, 0, 1, 1, 0, 0,\n",
       "       1, 1, 1, 0, 1, 1, 1, 1, 1, 0, 0, 1, 1, 0, 1, 1, 0, 0, 1, 0, 1, 1,\n",
       "       1, 1, 0, 1, 1, 1, 1, 1, 0, 1, 0, 0, 0, 0, 0, 0, 0, 0, 0, 0, 0, 0,\n",
       "       0, 0, 1, 1, 1, 1, 1, 1, 0, 1, 0, 1, 1, 0, 1, 1, 0, 1, 0, 0, 1, 1,\n",
       "       1, 1, 1, 1, 1, 1, 1, 1, 1, 1, 1, 0, 1, 1, 0, 1, 0, 1, 1, 1, 1, 1,\n",
       "       1, 1, 1, 1, 1, 1, 1, 1, 1, 0, 1, 1, 1, 0, 1, 0, 1, 1, 1, 1, 0, 0,\n",
       "       0, 1, 1, 1, 1, 0, 1, 0, 1, 0, 1, 1, 1, 0, 1, 1, 1, 1, 1, 1, 1, 0,\n",
       "       0, 0, 1, 1, 1, 1, 1, 1, 1, 1, 1, 1, 1, 0, 0, 1, 0, 0, 0, 1, 0, 0,\n",
       "       1, 1, 1, 1, 1, 0, 1, 1, 1, 1, 1, 0, 1, 1, 1, 0, 1, 1, 0, 0, 1, 1,\n",
       "       1, 1, 1, 1, 0, 1, 1, 1, 1, 1, 1, 1, 0, 1, 1, 1, 1, 1, 0, 1, 1, 0,\n",
       "       1, 1, 1, 1, 1, 1, 1, 1, 1, 1, 1, 1, 0, 1, 0, 0, 1, 0, 1, 1, 1, 1,\n",
       "       1, 0, 1, 1, 0, 1, 0, 1, 1, 0, 1, 0, 1, 1, 1, 1, 1, 1, 1, 1, 0, 0,\n",
       "       1, 1, 1, 1, 1, 1, 0, 1, 1, 1, 1, 1, 1, 1, 1, 1, 1, 0, 1, 1, 1, 1,\n",
       "       1, 1, 1, 0, 1, 0, 1, 1, 0, 1, 1, 1, 1, 1, 0, 0, 1, 0, 1, 0, 1, 1,\n",
       "       1, 1, 1, 0, 1, 1, 0, 1, 0, 1, 0, 0, 1, 1, 1, 0, 1, 1, 1, 1, 1, 1,\n",
       "       1, 1, 1, 1, 1, 0, 1, 0, 0, 1, 1, 1, 1, 1, 1, 1, 1, 1, 1, 1, 1, 1,\n",
       "       1, 1, 1, 1, 1, 1, 1, 1, 1, 1, 1, 1, 0, 0, 0, 0, 0, 0, 1])"
      ]
     },
     "execution_count": 8,
     "metadata": {},
     "output_type": "execute_result"
    }
   ],
   "source": [
    "# 'targets'\n",
    "data.target\n",
    "# note how the targets are just 0s and 1s\n",
    "# normally, when you have K targets, they are labeled 0..K-1"
   ]
  },
  {
   "cell_type": "code",
   "execution_count": 9,
   "id": "c7bbce59",
   "metadata": {},
   "outputs": [
    {
     "data": {
      "text/plain": [
       "array(['malignant', 'benign'], dtype='<U9')"
      ]
     },
     "execution_count": 9,
     "metadata": {},
     "output_type": "execute_result"
    }
   ],
   "source": [
    "# their meaning is not lost\n",
    "data.target_names"
   ]
  },
  {
   "cell_type": "code",
   "execution_count": 10,
   "id": "c1163f0f",
   "metadata": {},
   "outputs": [
    {
     "data": {
      "text/plain": [
       "(569,)"
      ]
     },
     "execution_count": 10,
     "metadata": {},
     "output_type": "execute_result"
    }
   ],
   "source": [
    "# there are also 569 corresponding targets\n",
    "data.target.shape"
   ]
  },
  {
   "cell_type": "code",
   "execution_count": 11,
   "id": "df9829d2",
   "metadata": {},
   "outputs": [
    {
     "data": {
      "text/plain": [
       "array(['mean radius', 'mean texture', 'mean perimeter', 'mean area',\n",
       "       'mean smoothness', 'mean compactness', 'mean concavity',\n",
       "       'mean concave points', 'mean symmetry', 'mean fractal dimension',\n",
       "       'radius error', 'texture error', 'perimeter error', 'area error',\n",
       "       'smoothness error', 'compactness error', 'concavity error',\n",
       "       'concave points error', 'symmetry error',\n",
       "       'fractal dimension error', 'worst radius', 'worst texture',\n",
       "       'worst perimeter', 'worst area', 'worst smoothness',\n",
       "       'worst compactness', 'worst concavity', 'worst concave points',\n",
       "       'worst symmetry', 'worst fractal dimension'], dtype='<U23')"
      ]
     },
     "execution_count": 11,
     "metadata": {},
     "output_type": "execute_result"
    }
   ],
   "source": [
    "# you can also determine the meaning of each feature\n",
    "data.feature_names"
   ]
  },
  {
   "cell_type": "code",
   "execution_count": 12,
   "id": "22b50f1f",
   "metadata": {},
   "outputs": [],
   "source": [
    "#data.DESCR"
   ]
  },
  {
   "cell_type": "code",
   "execution_count": 13,
   "id": "63f81191",
   "metadata": {},
   "outputs": [],
   "source": [
    "# normally we would put all of our imports at the top\n",
    "# but this lets us tell a story\n",
    "from sklearn.model_selection import train_test_split\n",
    "\n",
    "\n",
    "# split the data into train and test sets\n",
    "# this lets us simulate how our model will perform in the future\n",
    "X_train, X_test, y_train, y_test = train_test_split(data.data, data.target, test_size=0.33)\n",
    "N, D = X_train.shape"
   ]
  },
  {
   "cell_type": "code",
   "execution_count": 14,
   "id": "aa44d409",
   "metadata": {},
   "outputs": [],
   "source": [
    "# Scale the data\n",
    "# you'll learn why scaling is needed in a later course\n",
    "from sklearn.preprocessing import StandardScaler\n",
    "\n",
    "scaler = StandardScaler()\n",
    "X_train = scaler.fit_transform(X_train)\n",
    "X_test = scaler.transform(X_test)"
   ]
  },
  {
   "cell_type": "code",
   "execution_count": 15,
   "id": "a27b2a24",
   "metadata": {},
   "outputs": [
    {
     "data": {
      "text/plain": [
       "array([[-0.89335395, -0.54796378, -0.8782936 , ..., -0.36970187,\n",
       "        -0.23553582,  1.75735335],\n",
       "       [-1.1709116 , -0.45226004, -1.15062067, ..., -0.82787544,\n",
       "        -0.04447666, -0.45064242],\n",
       "       [-0.233811  ,  2.04070557, -0.2954181 , ..., -0.9369861 ,\n",
       "        -0.37966818, -0.78217167],\n",
       "       ...,\n",
       "       [ 2.99794942,  1.27040721,  3.11304991, ...,  2.54133391,\n",
       "        -0.9478178 ,  1.11408765],\n",
       "       [-0.39045245, -0.8794255 , -0.36748125, ..., -0.27001303,\n",
       "        -1.5444587 , -0.74588488],\n",
       "       [ 0.09046428, -0.98680042,  0.09794324, ...,  0.30745283,\n",
       "         0.38624444, -0.00585443]])"
      ]
     },
     "execution_count": 15,
     "metadata": {},
     "output_type": "execute_result"
    }
   ],
   "source": [
    "X_train"
   ]
  },
  {
   "cell_type": "code",
   "execution_count": 16,
   "id": "d88aa15b",
   "metadata": {},
   "outputs": [
    {
     "data": {
      "text/plain": [
       "array([[-0.78068203, -0.80239566, -0.80782299, ..., -0.82042917,\n",
       "        -0.11654284,  0.1535875 ],\n",
       "       [ 0.5109229 , -0.79305871,  0.51718361, ...,  0.08558436,\n",
       "         0.38959636,  0.26189805],\n",
       "       [ 1.19519871, -0.54796378,  1.1183735 , ...,  0.72839504,\n",
       "        -0.04447666, -0.01520102],\n",
       "       ...,\n",
       "       [ 0.50817481,  0.48376918,  0.51320222, ...,  0.17828283,\n",
       "         0.93763449, -0.47538341],\n",
       "       [ 0.92588534,  0.29703019,  0.9591179 , ...,  0.48677117,\n",
       "        -0.76681438, -0.40995724],\n",
       "       [ 1.0742825 , -0.17915426,  1.07457821, ...,  0.19803824,\n",
       "         0.16836995, -0.2730571 ]])"
      ]
     },
     "execution_count": 16,
     "metadata": {},
     "output_type": "execute_result"
    }
   ],
   "source": [
    "X_test"
   ]
  },
  {
   "cell_type": "code",
   "execution_count": 17,
   "id": "db271e36",
   "metadata": {},
   "outputs": [],
   "source": [
    "# Now all the fun PyTorch stuff\n",
    "# Build the model\n",
    "model = nn.Sequential(\n",
    "    nn.Linear(D, 1),\n",
    "    nn.Sigmoid()\n",
    ")"
   ]
  },
  {
   "cell_type": "code",
   "execution_count": 18,
   "id": "5f48645a",
   "metadata": {},
   "outputs": [],
   "source": [
    "# Loss and optimizer\n",
    "criterion = nn.BCELoss()\n",
    "optimizer = torch.optim.Adam(model.parameters())"
   ]
  },
  {
   "cell_type": "code",
   "execution_count": 19,
   "id": "e7da3df0",
   "metadata": {},
   "outputs": [],
   "source": [
    "# Convert data into torch tensors\n",
    "X_train = torch.from_numpy(X_train.astype(np.float32))\n",
    "X_test = torch.from_numpy(X_test.astype(np.float32))\n",
    "y_train = torch.from_numpy(y_train.astype(np.float32).reshape(-1, 1))\n",
    "y_test = torch.from_numpy(y_test.astype(np.float32).reshape(-1, 1))"
   ]
  },
  {
   "cell_type": "code",
   "execution_count": 20,
   "id": "91dcc045",
   "metadata": {},
   "outputs": [
    {
     "data": {
      "text/plain": [
       "tensor([[-0.8934, -0.5480, -0.8783,  ..., -0.3697, -0.2355,  1.7574],\n",
       "        [-1.1709, -0.4523, -1.1506,  ..., -0.8279, -0.0445, -0.4506],\n",
       "        [-0.2338,  2.0407, -0.2954,  ..., -0.9370, -0.3797, -0.7822],\n",
       "        ...,\n",
       "        [ 2.9979,  1.2704,  3.1130,  ...,  2.5413, -0.9478,  1.1141],\n",
       "        [-0.3905, -0.8794, -0.3675,  ..., -0.2700, -1.5445, -0.7459],\n",
       "        [ 0.0905, -0.9868,  0.0979,  ...,  0.3075,  0.3862, -0.0059]])"
      ]
     },
     "execution_count": 20,
     "metadata": {},
     "output_type": "execute_result"
    }
   ],
   "source": [
    "X_train"
   ]
  },
  {
   "cell_type": "code",
   "execution_count": 21,
   "id": "c7c67af5",
   "metadata": {},
   "outputs": [
    {
     "data": {
      "text/plain": [
       "tensor([[-0.7807, -0.8024, -0.8078,  ..., -0.8204, -0.1165,  0.1536],\n",
       "        [ 0.5109, -0.7931,  0.5172,  ...,  0.0856,  0.3896,  0.2619],\n",
       "        [ 1.1952, -0.5480,  1.1184,  ...,  0.7284, -0.0445, -0.0152],\n",
       "        ...,\n",
       "        [ 0.5082,  0.4838,  0.5132,  ...,  0.1783,  0.9376, -0.4754],\n",
       "        [ 0.9259,  0.2970,  0.9591,  ...,  0.4868, -0.7668, -0.4100],\n",
       "        [ 1.0743, -0.1792,  1.0746,  ...,  0.1980,  0.1684, -0.2731]])"
      ]
     },
     "execution_count": 21,
     "metadata": {},
     "output_type": "execute_result"
    }
   ],
   "source": [
    "X_test"
   ]
  },
  {
   "cell_type": "code",
   "execution_count": 22,
   "id": "9be0ff1d",
   "metadata": {},
   "outputs": [
    {
     "name": "stdout",
     "output_type": "stream",
     "text": [
      "Epoch 50/1000, Train Loss: 0.3808, Test Loss: 0.3609\n",
      "Epoch 100/1000, Train Loss: 0.2929, Test Loss: 0.2646\n",
      "Epoch 150/1000, Train Loss: 0.2430, Test Loss: 0.2126\n",
      "Epoch 200/1000, Train Loss: 0.2107, Test Loss: 0.1800\n",
      "Epoch 250/1000, Train Loss: 0.1882, Test Loss: 0.1576\n",
      "Epoch 300/1000, Train Loss: 0.1715, Test Loss: 0.1412\n",
      "Epoch 350/1000, Train Loss: 0.1586, Test Loss: 0.1288\n",
      "Epoch 400/1000, Train Loss: 0.1483, Test Loss: 0.1191\n",
      "Epoch 450/1000, Train Loss: 0.1398, Test Loss: 0.1113\n",
      "Epoch 500/1000, Train Loss: 0.1328, Test Loss: 0.1048\n",
      "Epoch 550/1000, Train Loss: 0.1268, Test Loss: 0.0995\n",
      "Epoch 600/1000, Train Loss: 0.1216, Test Loss: 0.0949\n",
      "Epoch 650/1000, Train Loss: 0.1171, Test Loss: 0.0909\n",
      "Epoch 700/1000, Train Loss: 0.1131, Test Loss: 0.0875\n",
      "Epoch 750/1000, Train Loss: 0.1096, Test Loss: 0.0845\n",
      "Epoch 800/1000, Train Loss: 0.1064, Test Loss: 0.0819\n",
      "Epoch 850/1000, Train Loss: 0.1035, Test Loss: 0.0796\n",
      "Epoch 900/1000, Train Loss: 0.1009, Test Loss: 0.0775\n",
      "Epoch 950/1000, Train Loss: 0.0985, Test Loss: 0.0756\n",
      "Epoch 1000/1000, Train Loss: 0.0963, Test Loss: 0.0739\n"
     ]
    }
   ],
   "source": [
    "# Train the model\n",
    "n_epochs = 1000\n",
    "\n",
    "# Stuff to store\n",
    "train_losses = np.zeros(n_epochs)\n",
    "test_losses = np.zeros(n_epochs)\n",
    "\n",
    "for it in range(n_epochs):\n",
    "  # zero the parameter gradients\n",
    "  optimizer.zero_grad()\n",
    "\n",
    "  # Forward pass\n",
    "  outputs = model(X_train)\n",
    "  loss = criterion(outputs, y_train)\n",
    "    \n",
    "  # Backward and optimize\n",
    "  loss.backward()\n",
    "  optimizer.step()\n",
    "\n",
    "  # Get test loss\n",
    "  outputs_test = model(X_test)\n",
    "  loss_test = criterion(outputs_test, y_test)\n",
    "\n",
    "  # Save losses\n",
    "  train_losses[it] = loss.item()\n",
    "  test_losses[it] = loss_test.item()\n",
    "    \n",
    "  if (it + 1) % 50 == 0:\n",
    "    print(f'Epoch {it+1}/{n_epochs}, Train Loss: {loss.item():.4f}, Test Loss: {loss_test.item():.4f}')"
   ]
  },
  {
   "cell_type": "code",
   "execution_count": 23,
   "id": "917f4f38",
   "metadata": {},
   "outputs": [
    {
     "data": {
      "image/png": "[encoded data removed]",
      "text/plain": [
       "<Figure size 640x480 with 1 Axes>"
      ]
     },
     "metadata": {},
     "output_type": "display_data"
    }
   ],
   "source": [
    "# Plot the train loss and test loss per iteration\n",
    "plt.plot(train_losses, label='train loss')\n",
    "plt.plot(test_losses, label='test loss')\n",
    "plt.legend()\n",
    "plt.show()"
   ]
  },
  {
   "cell_type": "code",
   "execution_count": 24,
   "id": "27d552fe",
   "metadata": {},
   "outputs": [
    {
     "name": "stdout",
     "output_type": "stream",
     "text": [
      "Train acc: 0.9843, Test acc: 0.9840\n"
     ]
    }
   ],
   "source": [
    "# Get accuracy\n",
    "with torch.no_grad():\n",
    "  p_train = model(X_train)\n",
    "  p_train = np.round(p_train.numpy())\n",
    "  train_acc = np.mean(y_train.numpy() == p_train)\n",
    "\n",
    "  p_test = model(X_test)\n",
    "  p_test = np.round(p_test.numpy())\n",
    "  test_acc = np.mean(y_test.numpy() == p_test)\n",
    "print(f\"Train acc: {train_acc:.4f}, Test acc: {test_acc:.4f}\")"
   ]
  },
  {
   "cell_type": "code",
   "execution_count": 25,
   "id": "68364b97",
   "metadata": {},
   "outputs": [],
   "source": [
    "# Exercise: Plot the accuracy per iteration too"
   ]
  },
  {
   "cell_type": "markdown",
   "id": "5d778727",
   "metadata": {},
   "source": [
    "## Save and Load Model"
   ]
  },
  {
   "cell_type": "code",
   "execution_count": 26,
   "id": "e5ade558",
   "metadata": {},
   "outputs": [
    {
     "data": {
      "text/plain": [
       "OrderedDict([('0.weight',\n",
       "              tensor([[-0.5095, -0.4565, -0.4942, -0.2823, -0.3275, -0.3507, -0.3473, -0.3042,\n",
       "                       -0.0832,  0.7387, -0.4459, -0.0030, -0.2804, -0.4213, -0.2226,  0.3870,\n",
       "                        0.1523, -0.3487,  0.1814,  0.6685, -0.4218, -0.4023, -0.5243, -0.4117,\n",
       "                       -0.2005, -0.1214, -0.5017, -0.2527, -0.4748, -0.4745]])),\n",
       "             ('0.bias', tensor([0.2171]))])"
      ]
     },
     "execution_count": 26,
     "metadata": {},
     "output_type": "execute_result"
    }
   ],
   "source": [
    "# Look at the state dict\n",
    "model.state_dict()"
   ]
  },
  {
   "cell_type": "code",
   "execution_count": 27,
   "id": "3e9f03a4",
   "metadata": {},
   "outputs": [],
   "source": [
    "# Save the model\n",
    "torch.save(model.state_dict(), 'mymodel.pt')"
   ]
  },
  {
   "cell_type": "code",
   "execution_count": 28,
   "id": "658c2e7e",
   "metadata": {},
   "outputs": [
    {
     "name": "stdout",
     "output_type": "stream",
     "text": [
      "\u001b[34mApplications\u001b[m\u001b[m                       fvS8\r\n",
      "\u001b[34mDesktop\u001b[m\u001b[m                            item_dept.csv\r\n",
      "Dice Game.ipynb                    k3A2_hx4@mggP9^^\r\n",
      "\u001b[34mDocuments\u001b[m\u001b[m                          \u001b[34mminiconda3\u001b[m\u001b[m\r\n",
      "\u001b[34mDownloads\u001b[m\u001b[m                          mymodel.pt\r\n",
      "\u001b[34mLibrary\u001b[m\u001b[m                            \u001b[34mopt\u001b[m\u001b[m\r\n",
      "\u001b[34mMovies\u001b[m\u001b[m                             path\r\n",
      "\u001b[34mMusic\u001b[m\u001b[m                              pytorch_experiment.ipynb\r\n",
      "\u001b[34mPictures\u001b[m\u001b[m                           pytorch_playbook.ipynb\r\n",
      "\u001b[34mPublic\u001b[m\u001b[m                             \u001b[34msahil.gupta\u001b[m\u001b[m\r\n",
      "PyTorch Autoregressive Model.ipynb sktime.ipynb\r\n",
      "PyTorch Classification Model.ipynb test_features.npy\r\n",
      "Untitled.ipynb                     test_labels.npy\r\n",
      "Untitled2.ipynb                    \u001b[34mtmp\u001b[m\u001b[m\r\n",
      "\u001b[34mcerts\u001b[m\u001b[m\r\n"
     ]
    }
   ],
   "source": [
    "!ls"
   ]
  },
  {
   "cell_type": "code",
   "execution_count": 29,
   "id": "b89d98c6",
   "metadata": {},
   "outputs": [
    {
     "data": {
      "text/plain": [
       "<All keys matched successfully>"
      ]
     },
     "execution_count": 29,
     "metadata": {},
     "output_type": "execute_result"
    }
   ],
   "source": [
    "# Load the model\n",
    "# Note: this makes more sense and is more compact when\n",
    "# your model is a big class, as we will be seeing later.\n",
    "model2 = nn.Sequential(\n",
    "    nn.Linear(D, 1),\n",
    "    nn.Sigmoid()\n",
    ")\n",
    "model2.load_state_dict(torch.load('mymodel.pt'))"
   ]
  },
  {
   "cell_type": "code",
   "execution_count": 30,
   "id": "55aec4f8",
   "metadata": {},
   "outputs": [
    {
     "name": "stdout",
     "output_type": "stream",
     "text": [
      "Train acc: 0.9843, Test acc: 0.9840\n"
     ]
    }
   ],
   "source": [
    "# Evaluate the new model\n",
    "# Results should be the same!\n",
    "with torch.no_grad():\n",
    "  p_train = model2(X_train)\n",
    "  p_train = np.round(p_train.numpy())\n",
    "  train_acc = np.mean(y_train.numpy() == p_train)\n",
    "\n",
    "  p_test = model2(X_test)\n",
    "  p_test = np.round(p_test.numpy())\n",
    "  test_acc = np.mean(y_test.numpy() == p_test)\n",
    "print(f\"Train acc: {train_acc:.4f}, Test acc: {test_acc:.4f}\")"
   ]
  },
  {
   "cell_type": "code",
   "execution_count": 31,
   "id": "4d183085",
   "metadata": {},
   "outputs": [
    {
     "name": "stdout",
     "output_type": "stream",
     "text": [
      "Requirement already satisfied: google in ./miniconda3/lib/python3.9/site-packages (3.0.0)\r\n",
      "Requirement already satisfied: beautifulsoup4 in ./miniconda3/lib/python3.9/site-packages (from google) (4.11.1)\r\n",
      "Requirement already satisfied: soupsieve>1.2 in ./miniconda3/lib/python3.9/site-packages (from beautifulsoup4->google) (2.3.2.post1)\r\n"
     ]
    }
   ],
   "source": [
    "!pip install google"
   ]
  },
  {
   "cell_type": "code",
   "execution_count": 32,
   "id": "f453a403",
   "metadata": {},
   "outputs": [],
   "source": [
    "## Download the model\n",
    "#from google.colab import files\n",
    "#files.download('mymodel.pt')"
   ]
  }
 ],
 "metadata": {
  "kernelspec": {
   "display_name": "Python 3 (ipykernel)",
   "language": "python",
   "name": "python3"
  },
  "language_info": {
   "codemirror_mode": {
    "name": "ipython",
    "version": 3
   },
   "file_extension": ".py",
   "mimetype": "text/x-python",
   "name": "python",
   "nbconvert_exporter": "python",
   "pygments_lexer": "ipython3",
   "version": "3.9.16"
  }
 },
 "nbformat": 4,
 "nbformat_minor": 5
}
